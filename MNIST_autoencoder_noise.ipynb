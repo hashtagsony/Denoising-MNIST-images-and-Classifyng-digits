{
 "cells": [
  {
   "cell_type": "code",
   "execution_count": 1,
   "metadata": {
    "colab": {
     "base_uri": "https://localhost:8080/",
     "height": 71
    },
    "colab_type": "code",
    "executionInfo": {
     "elapsed": 3673,
     "status": "ok",
     "timestamp": 1590814003191,
     "user": {
      "displayName": "sony lanke",
      "photoUrl": "",
      "userId": "12453777702031852790"
     },
     "user_tz": -330
    },
    "id": "ATegovhv6u6O",
    "outputId": "6bf090ad-350b-4e4c-983d-eee8e8a55837"
   },
   "outputs": [
    {
     "name": "stderr",
     "output_type": "stream",
     "text": [
      "/usr/local/lib/python3.6/dist-packages/statsmodels/tools/_testing.py:19: FutureWarning: pandas.util.testing is deprecated. Use the functions in the public API at pandas.testing instead.\n",
      "  import pandas.util.testing as tm\n"
     ]
    }
   ],
   "source": [
    "import numpy as np\n",
    "import pandas as pd\n",
    "import matplotlib.pyplot as plt\n",
    "%matplotlib inline\n",
    "import seaborn as sns\n",
    "sns.set()\n",
    "import cv2\n",
    "import sklearn"
   ]
  },
  {
   "cell_type": "code",
   "execution_count": 2,
   "metadata": {
    "colab": {
     "base_uri": "https://localhost:8080/",
     "height": 34
    },
    "colab_type": "code",
    "executionInfo": {
     "elapsed": 4447,
     "status": "ok",
     "timestamp": 1590814014134,
     "user": {
      "displayName": "sony lanke",
      "photoUrl": "",
      "userId": "12453777702031852790"
     },
     "user_tz": -330
    },
    "id": "BZRF_iR57FHo",
    "outputId": "1db2d6be-7828-44a9-b0a3-1b04bc27913d"
   },
   "outputs": [
    {
     "name": "stderr",
     "output_type": "stream",
     "text": [
      "Using TensorFlow backend.\n"
     ]
    }
   ],
   "source": [
    "import keras\n",
    "import tensorflow as tf\n",
    "from tensorflow.keras.models import Sequential\n",
    "from tensorflow.keras.layers import Dense, Conv2D , MaxPooling2D, Flatten , Dropout ,UpSampling2D\n",
    "# from tensorflow.keras.losses import categorical_crossentropy\n",
    "from tensorflow.keras.optimizers import Adam\n",
    "from tensorflow.keras.utils import to_categorical\n",
    "from tensorflow.keras.callbacks import EarlyStopping"
   ]
  },
  {
   "cell_type": "code",
   "execution_count": 3,
   "metadata": {
    "colab": {
     "base_uri": "https://localhost:8080/",
     "height": 51
    },
    "colab_type": "code",
    "executionInfo": {
     "elapsed": 3297,
     "status": "ok",
     "timestamp": 1590814017196,
     "user": {
      "displayName": "sony lanke",
      "photoUrl": "",
      "userId": "12453777702031852790"
     },
     "user_tz": -330
    },
    "id": "kJ7nBDAO7vIH",
    "outputId": "3b1a457f-8774-43c0-c7f2-b5bd23ed5819"
   },
   "outputs": [
    {
     "name": "stdout",
     "output_type": "stream",
     "text": [
      "Downloading data from https://storage.googleapis.com/tensorflow/tf-keras-datasets/mnist.npz\n",
      "11493376/11490434 [==============================] - 0s 0us/step\n"
     ]
    }
   ],
   "source": [
    "from tensorflow.keras.datasets import mnist\n",
    "\n",
    "#loading data\n",
    "(X_train,y_train),(X_test , y_test) = mnist.load_data()"
   ]
  },
  {
   "cell_type": "code",
   "execution_count": 4,
   "metadata": {
    "colab": {
     "base_uri": "https://localhost:8080/",
     "height": 125
    },
    "colab_type": "code",
    "executionInfo": {
     "elapsed": 2638,
     "status": "ok",
     "timestamp": 1590814032257,
     "user": {
      "displayName": "sony lanke",
      "photoUrl": "",
      "userId": "12453777702031852790"
     },
     "user_tz": -330
    },
    "id": "YZLijhJZ8BdB",
    "outputId": "82e37d35-622f-4df4-a2d5-f4aac110465d"
   },
   "outputs": [
    {
     "data": {
      "image/png": "[encoded data removed]",
      "text/plain": [
       "<Figure size 1440x720 with 4 Axes>"
      ]
     },
     "metadata": {
      "needs_background": "light",
      "tags": []
     },
     "output_type": "display_data"
    }
   ],
   "source": [
    "plt.figure(figsize = (20,10))\n",
    "for i in range(1,5):\n",
    "  axis = plt.subplot(1,10,i)\n",
    "  plt.imshow(X_train[i].reshape(28,28), cmap = plt.get_cmap('gray'))\n",
    "  plt.axis('off')\n",
    "plt.show()"
   ]
  },
  {
   "cell_type": "code",
   "execution_count": 5,
   "metadata": {
    "colab": {
     "base_uri": "https://localhost:8080/",
     "height": 34
    },
    "colab_type": "code",
    "executionInfo": {
     "elapsed": 2374,
     "status": "ok",
     "timestamp": 1590814038833,
     "user": {
      "displayName": "sony lanke",
      "photoUrl": "",
      "userId": "12453777702031852790"
     },
     "user_tz": -330
    },
    "id": "Sh-lj0dP8jpE",
    "outputId": "ecdb5dda-c948-425e-8917-30c0519f8b14"
   },
   "outputs": [
    {
     "data": {
      "text/plain": [
       "(60000, 28, 28)"
      ]
     },
     "execution_count": 5,
     "metadata": {
      "tags": []
     },
     "output_type": "execute_result"
    }
   ],
   "source": [
    "X_train.shape"
   ]
  },
  {
   "cell_type": "code",
   "execution_count": 0,
   "metadata": {
    "colab": {},
    "colab_type": "code",
    "id": "RMAXgp0Y8sYh"
   },
   "outputs": [],
   "source": [
    "#preprocessing\n",
    "X_train = X_train.reshape((X_train.shape[0],28,28,1)).astype('float32')\n",
    "X_test = X_test.reshape((X_test.shape[0],28,28,1)).astype('float32')\n",
    "\n",
    "X_train = X_train/255\n",
    "X_test = X_test/255"
   ]
  },
  {
   "cell_type": "code",
   "execution_count": 7,
   "metadata": {
    "colab": {
     "base_uri": "https://localhost:8080/",
     "height": 34
    },
    "colab_type": "code",
    "executionInfo": {
     "elapsed": 2695,
     "status": "ok",
     "timestamp": 1590814045462,
     "user": {
      "displayName": "sony lanke",
      "photoUrl": "",
      "userId": "12453777702031852790"
     },
     "user_tz": -330
    },
    "id": "JyHNwMhW9NDl",
    "outputId": "dbb07294-b171-4eae-e183-d6ad0eb41300"
   },
   "outputs": [
    {
     "data": {
      "text/plain": [
       "(60000, 28, 28, 1)"
      ]
     },
     "execution_count": 7,
     "metadata": {
      "tags": []
     },
     "output_type": "execute_result"
    }
   ],
   "source": [
    "X_train.shape"
   ]
  },
  {
   "cell_type": "code",
   "execution_count": 8,
   "metadata": {
    "colab": {
     "base_uri": "https://localhost:8080/",
     "height": 125
    },
    "colab_type": "code",
    "executionInfo": {
     "elapsed": 1629,
     "status": "ok",
     "timestamp": 1590814048424,
     "user": {
      "displayName": "sony lanke",
      "photoUrl": "",
      "userId": "12453777702031852790"
     },
     "user_tz": -330
    },
    "id": "xK8UYW6NrUji",
    "outputId": "dd1fd7fd-849c-4cf5-ce4d-cf4d85f27221"
   },
   "outputs": [
    {
     "data": {
      "image/png": "[encoded data removed]",
      "text/plain": [
       "<Figure size 1440x720 with 4 Axes>"
      ]
     },
     "metadata": {
      "needs_background": "light",
      "tags": []
     },
     "output_type": "display_data"
    }
   ],
   "source": [
    "plt.figure(figsize = (20,10))\n",
    "for i in range(1,5):\n",
    "  axis = plt.subplot(1,10,i)\n",
    "  plt.imshow(X_train[i].reshape(28,28) , cmap = plt.get_cmap('binary'))\n",
    "  plt.axis('off')\n",
    "plt.show()"
   ]
  },
  {
   "cell_type": "code",
   "execution_count": 0,
   "metadata": {
    "colab": {},
    "colab_type": "code",
    "id": "j1ZAZ5af9tWo"
   },
   "outputs": [],
   "source": [
    "#one hot encoding\n",
    "y_train = to_categorical(y_train)\n",
    "y_test = to_categorical(y_test)"
   ]
  },
  {
   "cell_type": "code",
   "execution_count": 0,
   "metadata": {
    "colab": {},
    "colab_type": "code",
    "id": "atEkvvoTpqkl"
   },
   "outputs": [],
   "source": [
    "# Adding guassian noise\n",
    "noise = 0.5\n",
    "mean = 0\n",
    "std = 1\n",
    "\n",
    "X_train_noise = X_train + noise * np.random.normal(loc = mean , scale = std , size = X_train.shape)\n",
    "X_test_noise = X_test + noise * np.random.normal(loc = mean , scale = std , size = X_test.shape)\n",
    "\n",
    "X_train_noise = np.clip(X_train_noise , 0.0 ,1.0)\n",
    "X_test_noise = np.clip(X_test_noise , 0.0 , 1.0)"
   ]
  },
  {
   "cell_type": "code",
   "execution_count": 12,
   "metadata": {
    "colab": {
     "base_uri": "https://localhost:8080/",
     "height": 125
    },
    "colab_type": "code",
    "executionInfo": {
     "elapsed": 1637,
     "status": "ok",
     "timestamp": 1590814084821,
     "user": {
      "displayName": "sony lanke",
      "photoUrl": "",
      "userId": "12453777702031852790"
     },
     "user_tz": -330
    },
    "id": "pFNe8bd-99Le",
    "outputId": "ce96a094-f6c3-4fa3-f5fb-eff96d670072"
   },
   "outputs": [
    {
     "data": {
      "image/png": "[encoded data removed]",
      "text/plain": [
       "<Figure size 1440x720 with 4 Axes>"
      ]
     },
     "metadata": {
      "needs_background": "light",
      "tags": []
     },
     "output_type": "display_data"
    }
   ],
   "source": [
    "#plotting noisy images\n",
    "plt.figure(figsize = (20,10))\n",
    "for i in range(1,5):\n",
    "  axis = plt.subplot(1,10,i)\n",
    "  plt.imshow(X_train_noise[i].reshape(28,28) , cmap = plt.get_cmap('binary'))\n",
    "  plt.axis('off')\n",
    "plt.show()"
   ]
  },
  {
   "cell_type": "code",
   "execution_count": 13,
   "metadata": {
    "colab": {
     "base_uri": "https://localhost:8080/",
     "height": 125
    },
    "colab_type": "code",
    "executionInfo": {
     "elapsed": 3335,
     "status": "ok",
     "timestamp": 1590814100137,
     "user": {
      "displayName": "sony lanke",
      "photoUrl": "",
      "userId": "12453777702031852790"
     },
     "user_tz": -330
    },
    "id": "43Pj7IeuzvTl",
    "outputId": "80466da7-e84b-41c1-ad08-bcec85893873"
   },
   "outputs": [
    {
     "data": {
      "image/png": "[encoded data removed]",
      "text/plain": [
       "<Figure size 1440x720 with 4 Axes>"
      ]
     },
     "metadata": {
      "needs_background": "light",
      "tags": []
     },
     "output_type": "display_data"
    }
   ],
   "source": [
    "\n",
    "plt.figure(figsize = (20,10))\n",
    "for i in range(1,5):\n",
    "  axis = plt.subplot(1,10,i)\n",
    "  plt.imshow(X_test[i].reshape(28,28) , cmap = plt.get_cmap('binary'))\n",
    "  plt.axis('off')\n",
    "\n",
    "plt.show()"
   ]
  },
  {
   "cell_type": "code",
   "execution_count": 0,
   "metadata": {
    "colab": {
     "base_uri": "https://localhost:8080/",
     "height": 125
    },
    "colab_type": "code",
    "executionInfo": {
     "elapsed": 1611,
     "status": "ok",
     "timestamp": 1590785461120,
     "user": {
      "displayName": "sony lanke",
      "photoUrl": "",
      "userId": "12453777702031852790"
     },
     "user_tz": -330
    },
    "id": "NpFJolmp0RPO",
    "outputId": "892a1631-c085-42cf-c5cc-1f5a098b7c9c"
   },
   "outputs": [
    {
     "data": {
      "image/png": "[encoded data removed]",
      "text/plain": [
       "<Figure size 1440x720 with 4 Axes>"
      ]
     },
     "metadata": {
      "tags": []
     },
     "output_type": "display_data"
    }
   ],
   "source": [
    "plt.figure(figsize = (20,10))\n",
    "for i in range(1,5):\n",
    "  axis = plt.subplot(1,10,i)\n",
    "  plt.imshow(X_test_noise[i].reshape(28,28) , cmap = plt.get_cmap('binary'))\n",
    "  plt.axis('off')\n",
    "\n",
    "plt.show()"
   ]
  },
  {
   "cell_type": "code",
   "execution_count": 0,
   "metadata": {
    "colab": {},
    "colab_type": "code",
    "id": "oqkn4o6y-ASj"
   },
   "outputs": [],
   "source": [
    "# creating auto encoder cnn model  that converts noisy images to normal images\n",
    "def base_model():\n",
    "  model = Sequential()\n",
    "  # Encoding phase\n",
    "  model.add(Conv2D(32 , kernel_size = (3,3) , kernel_initializer = 'he_normal' ,padding = 'same', input_shape = (28,28,1) , activation = 'relu'))\n",
    "  model.add(MaxPooling2D(pool_size = (2,2) , padding = 'same'))\n",
    "  model.add(Conv2D(16, kernel_size = (3,3) , activation = 'relu' , padding = 'same'))\n",
    "  model.add(MaxPooling2D(pool_size = (2,2) , padding = 'same'))\n",
    "  model.add(Conv2D(8 , kernel_size = (3,3) , activation = 'relu' , padding = 'same'))\n",
    "  model.add(MaxPooling2D(pool_size = (2,2) , padding = 'same'))\n",
    "\n",
    "  model.add(Conv2D(8 , kernel_size = (3,3) , activation = 'relu' , padding = 'same'))\n",
    "  #Decoding Phase\n",
    "  model.add(Conv2D(8 , kernel_size = (3,3) , activation ='relu' , padding = 'same'))\n",
    "  model.add(UpSampling2D((2,2)))\n",
    "  model.add(Conv2D(16 , kernel_size = (3,3) , activation = 'relu' , padding = 'same'))  \n",
    "  model.add(UpSampling2D((2,2)))\n",
    "  model.add(Conv2D(32 , kernel_size = (3,3) , activation = 'relu' ))\n",
    "  model.add(UpSampling2D((2,2)))\n",
    "  model.add(Conv2D(1 , kernel_size = (3,3) , activation = 'relu' , padding = 'same'))\n",
    "\n",
    "  \n",
    "\n",
    "  #Compiling the model\n",
    "  model.compile(loss = 'mean_squared_error' ,optimizer = 'adam' , metrics = ['accuracy'])\n",
    "  model.summary()\n",
    "\n",
    "  return model"
   ]
  },
  {
   "cell_type": "code",
   "execution_count": 31,
   "metadata": {
    "colab": {
     "base_uri": "https://localhost:8080/",
     "height": 629
    },
    "colab_type": "code",
    "executionInfo": {
     "elapsed": 1618,
     "status": "ok",
     "timestamp": 1590815234228,
     "user": {
      "displayName": "sony lanke",
      "photoUrl": "",
      "userId": "12453777702031852790"
     },
     "user_tz": -330
    },
    "id": "FPo81MH-_qa9",
    "outputId": "b47b9cb5-37e2-4083-c24f-7ab04362b249"
   },
   "outputs": [
    {
     "name": "stdout",
     "output_type": "stream",
     "text": [
      "Model: \"sequential_1\"\n",
      "_________________________________________________________________\n",
      "Layer (type)                 Output Shape              Param #   \n",
      "=================================================================\n",
      "conv2d_8 (Conv2D)            (None, 28, 28, 32)        320       \n",
      "_________________________________________________________________\n",
      "max_pooling2d_3 (MaxPooling2 (None, 14, 14, 32)        0         \n",
      "_________________________________________________________________\n",
      "conv2d_9 (Conv2D)            (None, 14, 14, 16)        4624      \n",
      "_________________________________________________________________\n",
      "max_pooling2d_4 (MaxPooling2 (None, 7, 7, 16)          0         \n",
      "_________________________________________________________________\n",
      "conv2d_10 (Conv2D)           (None, 7, 7, 8)           1160      \n",
      "_________________________________________________________________\n",
      "max_pooling2d_5 (MaxPooling2 (None, 4, 4, 8)           0         \n",
      "_________________________________________________________________\n",
      "conv2d_11 (Conv2D)           (None, 4, 4, 8)           584       \n",
      "_________________________________________________________________\n",
      "conv2d_12 (Conv2D)           (None, 4, 4, 8)           584       \n",
      "_________________________________________________________________\n",
      "up_sampling2d_3 (UpSampling2 (None, 8, 8, 8)           0         \n",
      "_________________________________________________________________\n",
      "conv2d_13 (Conv2D)           (None, 8, 8, 16)          1168      \n",
      "_________________________________________________________________\n",
      "up_sampling2d_4 (UpSampling2 (None, 16, 16, 16)        0         \n",
      "_________________________________________________________________\n",
      "conv2d_14 (Conv2D)           (None, 14, 14, 32)        4640      \n",
      "_________________________________________________________________\n",
      "up_sampling2d_5 (UpSampling2 (None, 28, 28, 32)        0         \n",
      "_________________________________________________________________\n",
      "conv2d_15 (Conv2D)           (None, 28, 28, 1)         289       \n",
      "=================================================================\n",
      "Total params: 13,369\n",
      "Trainable params: 13,369\n",
      "Non-trainable params: 0\n",
      "_________________________________________________________________\n"
     ]
    }
   ],
   "source": [
    "# training the model\n",
    "model = base_model()\n",
    "# model.fit(X_train, y_train , validation_data = (X_test , y_test) , epochs = 10 , batch_size = 200 , verbose = 2)"
   ]
  },
  {
   "cell_type": "code",
   "execution_count": 32,
   "metadata": {
    "colab": {
     "base_uri": "https://localhost:8080/",
     "height": 357
    },
    "colab_type": "code",
    "executionInfo": {
     "elapsed": 47366,
     "status": "ok",
     "timestamp": 1590815292051,
     "user": {
      "displayName": "sony lanke",
      "photoUrl": "",
      "userId": "12453777702031852790"
     },
     "user_tz": -330
    },
    "id": "K2Qu9MBYAS8p",
    "outputId": "1b89451c-69a5-41b2-99c6-579cc0bd4708"
   },
   "outputs": [
    {
     "name": "stdout",
     "output_type": "stream",
     "text": [
      "Epoch 1/10\n",
      "235/235 - 5s - loss: 0.0517 - accuracy: 0.7986 - val_loss: 0.0377 - val_accuracy: 0.8000\n",
      "Epoch 2/10\n",
      "235/235 - 4s - loss: 0.0340 - accuracy: 0.8032 - val_loss: 0.0305 - val_accuracy: 0.8046\n",
      "Epoch 3/10\n",
      "235/235 - 4s - loss: 0.0294 - accuracy: 0.8053 - val_loss: 0.0276 - val_accuracy: 0.8046\n",
      "Epoch 4/10\n",
      "235/235 - 4s - loss: 0.0270 - accuracy: 0.8065 - val_loss: 0.0258 - val_accuracy: 0.8070\n",
      "Epoch 5/10\n",
      "235/235 - 4s - loss: 0.0254 - accuracy: 0.8073 - val_loss: 0.0244 - val_accuracy: 0.8070\n",
      "Epoch 6/10\n",
      "235/235 - 4s - loss: 0.0242 - accuracy: 0.8079 - val_loss: 0.0236 - val_accuracy: 0.8085\n",
      "Epoch 7/10\n",
      "235/235 - 4s - loss: 0.0233 - accuracy: 0.8083 - val_loss: 0.0228 - val_accuracy: 0.8087\n",
      "Epoch 8/10\n",
      "235/235 - 4s - loss: 0.0226 - accuracy: 0.8086 - val_loss: 0.0227 - val_accuracy: 0.8095\n",
      "Epoch 9/10\n",
      "235/235 - 4s - loss: 0.0221 - accuracy: 0.8089 - val_loss: 0.0216 - val_accuracy: 0.8086\n",
      "Epoch 10/10\n",
      "235/235 - 4s - loss: 0.0216 - accuracy: 0.8091 - val_loss: 0.0210 - val_accuracy: 0.8085\n"
     ]
    }
   ],
   "source": [
    "# fitting the model\n",
    "encoder_history = model.fit(X_train_noise , X_train , validation_data = (X_test_noise , X_test) , shuffle = True , epochs = 10 , verbose = 2 , batch_size = 256)"
   ]
  },
  {
   "cell_type": "code",
   "execution_count": 43,
   "metadata": {
    "colab": {
     "base_uri": "https://localhost:8080/",
     "height": 319
    },
    "colab_type": "code",
    "executionInfo": {
     "elapsed": 1281,
     "status": "ok",
     "timestamp": 1590816098855,
     "user": {
      "displayName": "sony lanke",
      "photoUrl": "",
      "userId": "12453777702031852790"
     },
     "user_tz": -330
    },
    "id": "Y0cgw-0sx6Dr",
    "outputId": "0eec053c-7445-47ba-d998-5d6ed0691e9b"
   },
   "outputs": [
    {
     "data": {
      "text/plain": [
       "<matplotlib.legend.Legend at 0x7f09ae4ffdd8>"
      ]
     },
     "execution_count": 43,
     "metadata": {
      "tags": []
     },
     "output_type": "execute_result"
    },
    {
     "data": {
      "image/png": "[encoded data removed]",
      "text/plain": [
       "<Figure size 432x288 with 1 Axes>"
      ]
     },
     "metadata": {
      "tags": []
     },
     "output_type": "display_data"
    }
   ],
   "source": [
    "N = 10\n",
    "plt.style.use(\"ggplot\")\n",
    "plt.figure()\n",
    "plt.plot(np.arange(0, N), encoder_history.history[\"loss\"], label=\"train_loss\")\n",
    "plt.plot(np.arange(0, N), encoder_history.history[\"val_loss\"], label=\"val_loss\")\n",
    "plt.plot(np.arange(0, N), encoder_history.history[\"accuracy\"], label=\"train_acc\")\n",
    "plt.plot(np.arange(0, N), encoder_history.history[\"val_accuracy\"], label=\"val_acc\")\n",
    "plt.title(\"Training Loss and Accuracy on MNIST Dataset\")\n",
    "plt.xlabel(\"Epoch #\")\n",
    "plt.ylabel(\"Loss/Accuracy\")\n",
    "plt.legend(loc=\"lower left\")"
   ]
  },
  {
   "cell_type": "code",
   "execution_count": 34,
   "metadata": {
    "colab": {
     "base_uri": "https://localhost:8080/",
     "height": 125
    },
    "colab_type": "code",
    "executionInfo": {
     "elapsed": 3442,
     "status": "ok",
     "timestamp": 1590815413114,
     "user": {
      "displayName": "sony lanke",
      "photoUrl": "",
      "userId": "12453777702031852790"
     },
     "user_tz": -330
    },
    "id": "TXZWBAkXybPd",
    "outputId": "a0c4a7b2-31fe-4fc8-f862-0651545de505"
   },
   "outputs": [
    {
     "data": {
      "image/png": "[encoded data removed]",
      "text/plain": [
       "<Figure size 1440x720 with 10 Axes>"
      ]
     },
     "metadata": {
      "tags": []
     },
     "output_type": "display_data"
    }
   ],
   "source": [
    "no_noise_image = model.predict(X_test_noise)\n",
    "# Noisy images\n",
    "plt.figure(figsize = (20,10))\n",
    "for i in range(0,10):\n",
    "  axis = plt.subplot(1,10,i+1)\n",
    "  plt.imshow(X_test_noise[i].reshape(28,28) , cmap = plt.get_cmap('binary'))\n",
    "\n",
    "  plt.axis('off')\n",
    "\n",
    "plt.show()"
   ]
  },
  {
   "cell_type": "code",
   "execution_count": 35,
   "metadata": {
    "colab": {
     "base_uri": "https://localhost:8080/",
     "height": 125
    },
    "colab_type": "code",
    "executionInfo": {
     "elapsed": 2494,
     "status": "ok",
     "timestamp": 1590815419040,
     "user": {
      "displayName": "sony lanke",
      "photoUrl": "",
      "userId": "12453777702031852790"
     },
     "user_tz": -330
    },
    "id": "kz3J7jCJ0Dz_",
    "outputId": "38449a60-a360-44a4-9fea-c60ac0cd14d4"
   },
   "outputs": [
    {
     "data": {
      "image/png": "[encoded data removed]",
      "text/plain": [
       "<Figure size 1440x720 with 10 Axes>"
      ]
     },
     "metadata": {
      "tags": []
     },
     "output_type": "display_data"
    }
   ],
   "source": [
    "# Denoisy images after converting\n",
    "\n",
    "plt.figure(figsize = (20,10))\n",
    "for i in range(0,10):\n",
    "  axis = plt.subplot(1,10,i+1)\n",
    "  plt.imshow(no_noise_image[i].reshape(28,28) , cmap = plt.get_cmap('binary'))\n",
    "  plt.axis('off')\n",
    "plt.show()"
   ]
  },
  {
   "cell_type": "code",
   "execution_count": 0,
   "metadata": {
    "colab": {},
    "colab_type": "code",
    "id": "bTjp8D3n8SPe"
   },
   "outputs": [],
   "source": [
    "#saving the model\n",
    "model.save(\"mnist_autoencoder_noise.h5\")"
   ]
  },
  {
   "cell_type": "code",
   "execution_count": 0,
   "metadata": {
    "colab": {},
    "colab_type": "code",
    "id": "XnbRWXM41v6x"
   },
   "outputs": [],
   "source": [
    "# adding flatten layers to classify the digits\n",
    "def add_base_model():\n",
    "\n",
    "  model.add(Flatten())\n",
    "  model.add(Dense(100,activation = 'relu'))\n",
    "  model.add(Dense(10 , activation = 'softmax'))\n",
    "  model.compile(loss='categorical_crossentropy' , optimizer = 'adam' , metrics = ['accuracy'])\n",
    "  model.summary()\n",
    "\n",
    "  return model\n"
   ]
  },
  {
   "cell_type": "code",
   "execution_count": 38,
   "metadata": {
    "colab": {
     "base_uri": "https://localhost:8080/",
     "height": 731
    },
    "colab_type": "code",
    "executionInfo": {
     "elapsed": 1092,
     "status": "ok",
     "timestamp": 1590815465573,
     "user": {
      "displayName": "sony lanke",
      "photoUrl": "",
      "userId": "12453777702031852790"
     },
     "user_tz": -330
    },
    "id": "wMaRJIxZ9u_N",
    "outputId": "13ed782f-dc11-4f80-8cf7-f3256c62b636"
   },
   "outputs": [
    {
     "name": "stdout",
     "output_type": "stream",
     "text": [
      "Model: \"sequential_1\"\n",
      "_________________________________________________________________\n",
      "Layer (type)                 Output Shape              Param #   \n",
      "=================================================================\n",
      "conv2d_8 (Conv2D)            (None, 28, 28, 32)        320       \n",
      "_________________________________________________________________\n",
      "max_pooling2d_3 (MaxPooling2 (None, 14, 14, 32)        0         \n",
      "_________________________________________________________________\n",
      "conv2d_9 (Conv2D)            (None, 14, 14, 16)        4624      \n",
      "_________________________________________________________________\n",
      "max_pooling2d_4 (MaxPooling2 (None, 7, 7, 16)          0         \n",
      "_________________________________________________________________\n",
      "conv2d_10 (Conv2D)           (None, 7, 7, 8)           1160      \n",
      "_________________________________________________________________\n",
      "max_pooling2d_5 (MaxPooling2 (None, 4, 4, 8)           0         \n",
      "_________________________________________________________________\n",
      "conv2d_11 (Conv2D)           (None, 4, 4, 8)           584       \n",
      "_________________________________________________________________\n",
      "conv2d_12 (Conv2D)           (None, 4, 4, 8)           584       \n",
      "_________________________________________________________________\n",
      "up_sampling2d_3 (UpSampling2 (None, 8, 8, 8)           0         \n",
      "_________________________________________________________________\n",
      "conv2d_13 (Conv2D)           (None, 8, 8, 16)          1168      \n",
      "_________________________________________________________________\n",
      "up_sampling2d_4 (UpSampling2 (None, 16, 16, 16)        0         \n",
      "_________________________________________________________________\n",
      "conv2d_14 (Conv2D)           (None, 14, 14, 32)        4640      \n",
      "_________________________________________________________________\n",
      "up_sampling2d_5 (UpSampling2 (None, 28, 28, 32)        0         \n",
      "_________________________________________________________________\n",
      "conv2d_15 (Conv2D)           (None, 28, 28, 1)         289       \n",
      "_________________________________________________________________\n",
      "flatten_3 (Flatten)          (None, 784)               0         \n",
      "_________________________________________________________________\n",
      "dense_6 (Dense)              (None, 100)               78500     \n",
      "_________________________________________________________________\n",
      "dense_7 (Dense)              (None, 10)                1010      \n",
      "=================================================================\n",
      "Total params: 92,879\n",
      "Trainable params: 92,879\n",
      "Non-trainable params: 0\n",
      "_________________________________________________________________\n"
     ]
    }
   ],
   "source": [
    "model = add_base_model()"
   ]
  },
  {
   "cell_type": "code",
   "execution_count": 41,
   "metadata": {
    "colab": {
     "base_uri": "https://localhost:8080/",
     "height": 697
    },
    "colab_type": "code",
    "executionInfo": {
     "elapsed": 94677,
     "status": "ok",
     "timestamp": 1590815898796,
     "user": {
      "displayName": "sony lanke",
      "photoUrl": "",
      "userId": "12453777702031852790"
     },
     "user_tz": -330
    },
    "id": "TE9gRpsP9ze2",
    "outputId": "ae5d19b2-46f4-4af7-bd16-c15a9893c638"
   },
   "outputs": [
    {
     "name": "stdout",
     "output_type": "stream",
     "text": [
      "Epoch 1/20\n",
      "235/235 - 5s - loss: 0.0981 - accuracy: 0.9672 - val_loss: 0.1328 - val_accuracy: 0.9597\n",
      "Epoch 2/20\n",
      "235/235 - 5s - loss: 0.0995 - accuracy: 0.9658 - val_loss: 0.1312 - val_accuracy: 0.9582\n",
      "Epoch 3/20\n",
      "235/235 - 5s - loss: 0.0893 - accuracy: 0.9703 - val_loss: 0.1318 - val_accuracy: 0.9592\n",
      "Epoch 4/20\n",
      "235/235 - 5s - loss: 0.0843 - accuracy: 0.9714 - val_loss: 0.1385 - val_accuracy: 0.9551\n",
      "Epoch 5/20\n",
      "235/235 - 5s - loss: 0.0832 - accuracy: 0.9716 - val_loss: 0.1471 - val_accuracy: 0.9531\n",
      "Epoch 6/20\n",
      "235/235 - 5s - loss: 0.0777 - accuracy: 0.9736 - val_loss: 0.1449 - val_accuracy: 0.9545\n",
      "Epoch 7/20\n",
      "235/235 - 5s - loss: 0.0754 - accuracy: 0.9745 - val_loss: 0.1390 - val_accuracy: 0.9568\n",
      "Epoch 8/20\n",
      "235/235 - 5s - loss: 0.0699 - accuracy: 0.9753 - val_loss: 0.1481 - val_accuracy: 0.9554\n",
      "Epoch 9/20\n",
      "235/235 - 5s - loss: 0.0678 - accuracy: 0.9766 - val_loss: 0.1534 - val_accuracy: 0.9550\n",
      "Epoch 10/20\n",
      "235/235 - 5s - loss: 0.0648 - accuracy: 0.9778 - val_loss: 0.1498 - val_accuracy: 0.9571\n",
      "Epoch 11/20\n",
      "235/235 - 5s - loss: 0.0625 - accuracy: 0.9783 - val_loss: 0.1373 - val_accuracy: 0.9599\n",
      "Epoch 12/20\n",
      "235/235 - 5s - loss: 0.0575 - accuracy: 0.9795 - val_loss: 0.1456 - val_accuracy: 0.9592\n",
      "Epoch 13/20\n",
      "235/235 - 5s - loss: 0.0565 - accuracy: 0.9798 - val_loss: 0.1630 - val_accuracy: 0.9546\n",
      "Epoch 14/20\n",
      "235/235 - 5s - loss: 0.0545 - accuracy: 0.9807 - val_loss: 0.1466 - val_accuracy: 0.9594\n",
      "Epoch 15/20\n",
      "235/235 - 5s - loss: 0.0494 - accuracy: 0.9825 - val_loss: 0.1550 - val_accuracy: 0.9573\n",
      "Epoch 16/20\n",
      "235/235 - 5s - loss: 0.0502 - accuracy: 0.9822 - val_loss: 0.1479 - val_accuracy: 0.9595\n",
      "Epoch 17/20\n",
      "235/235 - 5s - loss: 0.0468 - accuracy: 0.9833 - val_loss: 0.1559 - val_accuracy: 0.9599\n",
      "Epoch 18/20\n",
      "235/235 - 5s - loss: 0.0487 - accuracy: 0.9829 - val_loss: 0.1693 - val_accuracy: 0.9559\n",
      "Epoch 19/20\n",
      "235/235 - 5s - loss: 0.0393 - accuracy: 0.9859 - val_loss: 0.1893 - val_accuracy: 0.9569\n",
      "Epoch 20/20\n",
      "235/235 - 5s - loss: 0.0417 - accuracy: 0.9846 - val_loss: 0.1733 - val_accuracy: 0.9589\n"
     ]
    }
   ],
   "source": [
    "# fitting the model for classification\n",
    "classify_model = model.fit(X_train_noise , y_train , validation_data = (X_test_noise , y_test) , epochs=20,batch_size = 256 , verbose = 2 , shuffle =True)"
   ]
  },
  {
   "cell_type": "code",
   "execution_count": 42,
   "metadata": {
    "colab": {
     "base_uri": "https://localhost:8080/",
     "height": 319
    },
    "colab_type": "code",
    "executionInfo": {
     "elapsed": 1339,
     "status": "ok",
     "timestamp": 1590816056953,
     "user": {
      "displayName": "sony lanke",
      "photoUrl": "",
      "userId": "12453777702031852790"
     },
     "user_tz": -330
    },
    "id": "sn09DXBkAcam",
    "outputId": "a07fdfaf-952e-4905-f144-ef2da7199e5c"
   },
   "outputs": [
    {
     "data": {
      "text/plain": [
       "<matplotlib.legend.Legend at 0x7f09ac480438>"
      ]
     },
     "execution_count": 42,
     "metadata": {
      "tags": []
     },
     "output_type": "execute_result"
    },
    {
     "data": {
      "image/png": "[encoded data removed]",
      "text/plain": [
       "<Figure size 432x288 with 1 Axes>"
      ]
     },
     "metadata": {
      "tags": []
     },
     "output_type": "display_data"
    }
   ],
   "source": [
    "#plotting validation loss and training loss and accuracies\n",
    "N = 20\n",
    "plt.style.use(\"ggplot\")\n",
    "plt.figure()\n",
    "plt.plot(np.arange(0, N), classify_model.history[\"loss\"], label=\"train_loss\")\n",
    "plt.plot(np.arange(0, N), classify_model.history[\"val_loss\"], label=\"val_loss\")\n",
    "plt.plot(np.arange(0, N), classify_model.history[\"accuracy\"], label=\"train_acc\")\n",
    "plt.plot(np.arange(0, N), classify_model.history[\"val_accuracy\"], label=\"val_acc\")\n",
    "plt.title(\"Training Loss and Accuracy on MNIST noisy data\")\n",
    "plt.xlabel(\"Epoch #\")\n",
    "plt.ylabel(\"Loss/Accuracy\")\n",
    "plt.legend(loc=\"lower left\")"
   ]
  },
  {
   "cell_type": "code",
   "execution_count": 46,
   "metadata": {
    "colab": {
     "base_uri": "https://localhost:8080/",
     "height": 34
    },
    "colab_type": "code",
    "executionInfo": {
     "elapsed": 2382,
     "status": "ok",
     "timestamp": 1590816675398,
     "user": {
      "displayName": "sony lanke",
      "photoUrl": "",
      "userId": "12453777702031852790"
     },
     "user_tz": -330
    },
    "id": "Votw8jqzBp9M",
    "outputId": "885d405e-3890-4ebb-b124-dd68192a6f83"
   },
   "outputs": [
    {
     "data": {
      "text/plain": [
       "[0.17329271137714386, 0.958899974822998]"
      ]
     },
     "execution_count": 46,
     "metadata": {
      "tags": []
     },
     "output_type": "execute_result"
    }
   ],
   "source": [
    "#predicting the model\n",
    "model.evaluate(X_test_noise , y_test , verbose = 0)"
   ]
  },
  {
   "cell_type": "code",
   "execution_count": 0,
   "metadata": {
    "colab": {},
    "colab_type": "code",
    "id": "D6jOMBelCJUr"
   },
   "outputs": [],
   "source": []
  }
 ],
 "metadata": {
  "accelerator": "GPU",
  "colab": {
   "authorship_tag": "ABX9TyMu0Vo4wSmh+z+3WJyKQ14d",
   "collapsed_sections": [],
   "name": "MNIST_autoencoder_noise.ipynb",
   "provenance": []
  },
  "kernelspec": {
   "display_name": "Python 3",
   "language": "python",
   "name": "python3"
  },
  "language_info": {
   "codemirror_mode": {
    "name": "ipython",
    "version": 3
   },
   "file_extension": ".py",
   "mimetype": "text/x-python",
   "name": "python",
   "nbconvert_exporter": "python",
   "pygments_lexer": "ipython3",
   "version": "3.6.5"
  }
 },
 "nbformat": 4,
 "nbformat_minor": 1
}
